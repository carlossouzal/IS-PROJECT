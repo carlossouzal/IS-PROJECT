{
 "cells": [
  {
   "cell_type": "code",
   "execution_count": 55,
   "metadata": {},
   "outputs": [],
   "source": [
    "from transformers import pipeline\n",
    "from pathlib import Path\n",
    "import pandas as pd\n",
    "import numpy as np\n",
    "import torch\n",
    "import json"
   ]
  },
  {
   "cell_type": "code",
   "execution_count": 56,
   "metadata": {},
   "outputs": [],
   "source": [
    "model_name = \"deepset/minilm-uncased-squad2\"\n"
   ]
  },
  {
   "cell_type": "code",
   "execution_count": 57,
   "metadata": {},
   "outputs": [
    {
     "name": "stdout",
     "output_type": "stream",
     "text": [
      "cuda:0\n"
     ]
    }
   ],
   "source": [
    "device = torch.device('cuda:0' if torch.cuda.is_available()\n",
    "                      else 'cpu')\n",
    "print(device)"
   ]
  },
  {
   "cell_type": "code",
   "execution_count": 58,
   "metadata": {},
   "outputs": [],
   "source": [
    "nlp = pipeline('question-answering', model=model_name, tokenizer=model_name, device=device)"
   ]
  },
  {
   "cell_type": "code",
   "execution_count": null,
   "metadata": {},
   "outputs": [],
   "source": [
    "def get_predictions(question, context):\n",
    "    QA_input = {\n",
    "        'question': question,\n",
    "        'context': context\n",
    "    }\n",
    "    return nlp(QA_input)"
   ]
  },
  {
   "cell_type": "code",
   "execution_count": null,
   "metadata": {},
   "outputs": [],
   "source": [
    "path = Path(\"squad/dev-v2.0.json\")\n",
    "\n",
    "with open(path, 'rb') as f:\n",
    "    squad_dict = json.load(f)\n",
    "\n",
    "texts = []\n",
    "queries = []\n",
    "answers = []\n",
    "qid = []\n",
    "\n",
    "# Search for each passage, its question and its answer\n",
    "for group in squad_dict['data']:\n",
    "    for passage in group['paragraphs']:\n",
    "        context = passage['context']\n",
    "        for qa in passage['qas']:\n",
    "            question = qa['question']\n",
    "            id = qa[\"id\"]\n",
    "            \n",
    "            if(len(qa['answers']) == 0):\n",
    "                texts.append(context)\n",
    "                queries.append(question)\n",
    "                qid.append(id)\n",
    "                answers.append(\"\")\n",
    "            else:\n",
    "                for answer in qa['answers']:\n",
    "                    # Store every passage, query and its answer to the lists\n",
    "                    texts.append(context)\n",
    "                    queries.append(question)\n",
    "                    qid.append(id)\n",
    "                    answers.append(answer)\n",
    "\n",
    "\n",
    "val_texts, val_queries, val_answers, val_qid = texts, queries, answers, qid"
   ]
  },
  {
   "cell_type": "code",
   "execution_count": null,
   "metadata": {},
   "outputs": [],
   "source": [
    "all_predictions = get_predictions(val_queries, val_texts)"
   ]
  },
  {
   "cell_type": "code",
   "execution_count": null,
   "metadata": {},
   "outputs": [],
   "source": [
    "predictions = {}\n",
    "scores = {}\n",
    "\n",
    "for i in range(len(all_predictions)):\n",
    "    key = val_qid[i]\n",
    "\n",
    "    prediction = all_predictions[i]\n",
    "\n",
    "    predictions[key] = prediction[\"answer\"]\n",
    "    scores[key] = abs(all_predictions[i][\"score\"])\n",
    "    if(scores[key] < 0.24):\n",
    "        predictions[key] = \"\"\n",
    "\n",
    "with open(\"predictions.json\", \"w\") as outfile:\n",
    "    json.dump(predictions, outfile)\n",
    "\n",
    "\n",
    "with open(\"scores.json\", \"w\") as outfile:\n",
    "    json.dump(scores, outfile)"
   ]
  }
 ],
 "metadata": {
  "kernelspec": {
   "display_name": "Python 3",
   "language": "python",
   "name": "python3"
  },
  "language_info": {
   "codemirror_mode": {
    "name": "ipython",
    "version": 3
   },
   "file_extension": ".py",
   "mimetype": "text/x-python",
   "name": "python",
   "nbconvert_exporter": "python",
   "pygments_lexer": "ipython3",
   "version": "3.10.9 (tags/v3.10.9:1dd9be6, Dec  6 2022, 20:01:21) [MSC v.1934 64 bit (AMD64)]"
  },
  "orig_nbformat": 4,
  "vscode": {
   "interpreter": {
    "hash": "046b844cfe77f56867adc884800e389906328c66f60829dd4497d230d7e2d321"
   }
  }
 },
 "nbformat": 4,
 "nbformat_minor": 2
}
